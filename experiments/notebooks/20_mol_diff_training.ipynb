{
 "cells": [
  {
   "metadata": {},
   "cell_type": "markdown",
   "source": [
    "# MolDiff 3D Training Script\n",
    "\n",
    "This notebook shows how to train a 3D molecular diffusion model, MolDiff. MolDiff is designed to generate 3D molecular structures using a graph neural network (GNN) based diffusion model, while maintaining E(3) equivariance. The model is trained on the QM9 dataset, which contains small organic molecules with up to 9 heavy atoms.\n",
    "\n",
    "\"In this notebook, we move from 2D molecular graphs to 3D molecular generation. Unlike the 2D model that only generates atom and bond types, this 3D diffusion model generates both atom features and 3D atomic coordinates simultaneously. The key innovation is using E(3)-equivariant Graph Neural Networks (GNNs) that are specifically designed to handle 3D data while being invariant to rotations and translations, ensuring the generated molecules have a valid geometry.\"\n",
    "\n",
    "\n",
    "##  Key Concepts:\n",
    "- **E(3) Equivariance**: The model respects the symmetries of 3D space, meaning that rotations and translations of the input lead to corresponding transformations in the output.\n",
    "- **Graph Neural Networks (GNNs)**: The model uses GNNs to process molecular graphs, capturing the relationships between atoms and bonds.\n",
    "- **DDPM (Denoising Diffusion Probabilistic Models)**: A type of generative model that learns to reverse a diffusion process, enabling the generation of high-quality samples.\n",
    "- **QM9 Dataset**: A widely used benchmark dataset for molecular machine learning, containing 134k small organic molecules with up to 9 heavy atoms (C, O, N, F)."
   ],
   "id": "758d2a5cc746fb18"
  },
  {
   "metadata": {
    "collapsed": true,
    "ExecuteTime": {
     "end_time": "2025-09-03T20:07:39.164897Z",
     "start_time": "2025-09-03T20:07:36.257659Z"
    }
   },
   "cell_type": "code",
   "source": [
    "import torch\n",
    "import torch.nn.functional as F\n",
    "from torch_geometric.data import DataLoader\n",
    "import logging\n",
    "import os\n",
    "from tqdm import tqdm\n",
    "from pathlib import Path\n",
    "from torch.optim import AdamW\n",
    "import matplotlib.pyplot as plt\n",
    "import seaborn as sns\n",
    "import numpy as np\n",
    "\n",
    "# Import the refactored components\n",
    "from mol_diff_3d.data.datasets import Qm9MolecularDataset\n",
    "from mol_diff_3d.models.diffusion import MolecularDiffusionModel\n",
    "from mol_diff_3d.models.noise_scheduler import NoiseScheduler\n",
    "from mol_diff_3d.sampling.samplers import DDPMQSampler\n",
    "from mol_diff_3d.training.trainer import DDPMTrainer\n",
    "from mol_diff_3d.utils.checkpoints import save_checkpoint"
   ],
   "id": "initial_id",
   "outputs": [
    {
     "name": "stderr",
     "output_type": "stream",
     "text": [
      "No normalization for SPS. Feature removed!\n",
      "No normalization for AvgIpc. Feature removed!\n",
      "No normalization for NumAmideBonds. Feature removed!\n",
      "No normalization for NumAtomStereoCenters. Feature removed!\n",
      "No normalization for NumBridgeheadAtoms. Feature removed!\n",
      "No normalization for NumHeterocycles. Feature removed!\n",
      "No normalization for NumSpiroAtoms. Feature removed!\n",
      "No normalization for NumUnspecifiedAtomStereoCenters. Feature removed!\n",
      "No normalization for Phi. Feature removed!\n",
      "Skipped loading some Tensorflow models, missing a dependency. No module named 'tensorflow'\n",
      "Skipped loading modules with pytorch-geometric dependency, missing a dependency. No module named 'dgl'\n",
      "Skipped loading modules with transformers dependency. No module named 'transformers'\n",
      "cannot import name 'HuggingFaceModel' from 'deepchem.models.torch_models' (/home/jantine/miniconda3/envs/diff_gnn/lib/python3.11/site-packages/deepchem/models/torch_models/__init__.py)\n",
      "Skipped loading modules with pytorch-lightning dependency, missing a dependency. No module named 'lightning'\n",
      "Skipped loading some Jax models, missing a dependency. No module named 'jax'\n",
      "Skipped loading some PyTorch models, missing a dependency. No module named 'tensorflow'\n"
     ]
    }
   ],
   "execution_count": 1
  },
  {
   "metadata": {
    "ExecuteTime": {
     "end_time": "2025-09-03T20:07:39.178703Z",
     "start_time": "2025-09-03T20:07:39.175396Z"
    }
   },
   "cell_type": "code",
   "source": [
    "# Set up logging and device\n",
    "logging.basicConfig(level=logging.INFO)\n",
    "device = torch.device(\"cuda\" if torch.cuda.is_available() else \"cpu\")\n",
    "print(f\"Using device: {device}\")"
   ],
   "id": "f7efd12819431011",
   "outputs": [
    {
     "name": "stdout",
     "output_type": "stream",
     "text": [
      "Using device: cuda\n"
     ]
    }
   ],
   "execution_count": 2
  },
  {
   "metadata": {
    "ExecuteTime": {
     "end_time": "2025-09-03T20:07:39.283955Z",
     "start_time": "2025-09-03T20:07:39.280493Z"
    }
   },
   "cell_type": "code",
   "source": [
    "# Paths for saving models and results\n",
    "RESULTS_DIR = Path(\"../results/mol_diff_3d\")\n",
    "RESULTS_DIR.mkdir(parents=True, exist_ok=True)\n",
    "\n",
    "# Define the checkpoint path within the results directory\n",
    "checkpoint_path = RESULTS_DIR / \"mol_diff_final.pth\""
   ],
   "id": "ea84c68668e1acae",
   "outputs": [],
   "execution_count": 3
  },
  {
   "metadata": {},
   "cell_type": "markdown",
   "source": [
    "## QM9 dataset\n",
    "\n",
    "The QM9 dataset provides us with 3D molecular structures. We can see that each node now has a new feature: pos, a 3-dimensional vector representing its x, y, z coordinates. This is the continuous data we will add noise to and subsequently denoise."
   ],
   "id": "719bb27a2fa3a8b1"
  },
  {
   "metadata": {
    "ExecuteTime": {
     "end_time": "2025-09-03T20:07:46.619368Z",
     "start_time": "2025-09-03T20:07:39.335699Z"
    }
   },
   "cell_type": "code",
   "source": [
    "# Data Loading and Preparation\n",
    "\n",
    "# Load the QM9 dataset\n",
    "dataset = Qm9MolecularDataset(max_atoms=25)\n",
    "\n",
    "# Get dataset info\n",
    "info = dataset.get_dataset_info()\n",
    "print(\"--- Dataset Information ---\")\n",
    "for key, value in info.items():\n",
    "    print(f\"{key}: {value}\")\n",
    "\n",
    "# Create a DataLoader\n",
    "dataloader = dataset.create_dataloader(batch_size=64, shuffle=True, max_samples=5000)\n",
    "\n",
    "# Inspect a sample batch\n",
    "sample_batch = next(iter(dataloader))\n",
    "print(\"\\n--- Sample Batch Information ---\")\n",
    "print(f\"Number of molecules in batch: {sample_batch.num_graphs}\")\n",
    "print(f\"Atom features shape (x): {sample_batch.x.shape}\")\n",
    "print(f\"3D positions shape (pos): {sample_batch.pos.shape}\")\n",
    "print(f\"Edge index shape: {sample_batch.edge_index.shape}\")\n"
   ],
   "id": "f5cb0ca5f64b7c9c",
   "outputs": [
    {
     "name": "stderr",
     "output_type": "stream",
     "text": [
      "INFO:mol_diff_3d.data.datasets:Loading DeepChem dataset: QM9\n",
      "INFO:deepchem.data.datasets:Loading dataset from disk.\n",
      "INFO:deepchem.data.datasets:Loading dataset from disk.\n",
      "INFO:deepchem.data.datasets:Loading dataset from disk.\n",
      "INFO:mol_diff_3d.data.datasets:Loaded DiskDataset with 105576 molecules\n",
      "INFO:mol_diff_3d.data.datasets:Converting 5000 molecules to graphs...\n",
      "INFO:mol_diff_3d.data.datasets:Processed 0/5000 molecules...\n"
     ]
    },
    {
     "name": "stdout",
     "output_type": "stream",
     "text": [
      "--- Dataset Information ---\n",
      "name: qm9\n",
      "size: 105576\n",
      "max_atoms: 25\n",
      "atom_feature_dim: 11\n"
     ]
    },
    {
     "name": "stderr",
     "output_type": "stream",
     "text": [
      "INFO:mol_diff_3d.data.datasets:Successfully converted 4978/5000 molecules (99.6%)\n",
      "INFO:mol_diff_3d.data.datasets:Failed conversions: 22\n"
     ]
    },
    {
     "name": "stdout",
     "output_type": "stream",
     "text": [
      "\n",
      "--- Sample Batch Information ---\n",
      "Number of molecules in batch: 64\n",
      "Atom features shape (x): torch.Size([1181, 11])\n",
      "3D positions shape (pos): torch.Size([1181, 3])\n",
      "Edge index shape: torch.Size([2, 2430])\n"
     ]
    },
    {
     "name": "stderr",
     "output_type": "stream",
     "text": [
      "/home/jantine/miniconda3/envs/diff_gnn/lib/python3.11/site-packages/torch_geometric/deprecation.py:26: UserWarning: 'data.DataLoader' is deprecated, use 'loader.DataLoader' instead\n",
      "  warnings.warn(out)\n"
     ]
    }
   ],
   "execution_count": 4
  },
  {
   "metadata": {},
   "cell_type": "markdown",
   "source": [
    "## Model Architecture\n",
    "\n",
    "The core of our model is the E(3)-equivariant GNN. Think of it as a special kind of GNN that has 'spatial awareness.' While a normal GNN would see two identical molecules in different orientations as different graphs, an E(3)-equivariant GNN recognizes them as the same. It ensures that if we rotate a molecule, its representation and the final generated molecule also rotate in the exact same way.  This is critical for generating chemically valid 3D structures."
   ],
   "id": "54f80acabd3e25a6"
  },
  {
   "metadata": {
    "ExecuteTime": {
     "end_time": "2025-09-03T20:07:46.647821Z",
     "start_time": "2025-09-03T20:07:46.645229Z"
    }
   },
   "cell_type": "code",
   "source": [
    "# Set hyperparameters\n",
    "config = {\n",
    "    'atom_dim': info['atom_feature_dim'],\n",
    "    'pos_dim': 3,\n",
    "    'hidden_dim': 128,\n",
    "    'time_dim': 128,\n",
    "    'num_timesteps': 1000,\n",
    "    'learning_rate': 1e-4,\n",
    "    'epochs': 100,\n",
    "    'log_interval': 10\n",
    "}"
   ],
   "id": "1b3052e36d3348b9",
   "outputs": [],
   "execution_count": 5
  },
  {
   "metadata": {
    "ExecuteTime": {
     "end_time": "2025-09-03T20:07:46.937032Z",
     "start_time": "2025-09-03T20:07:46.707933Z"
    }
   },
   "cell_type": "code",
   "source": [
    "# Initialize model and components\n",
    "noise_scheduler = NoiseScheduler(num_timesteps=config['num_timesteps']).to(device)\n",
    "q_sampler = DDPMQSampler(noise_scheduler.get_parameters())\n",
    "model = MolecularDiffusionModel(\n",
    "    atom_dim=config['atom_dim'],\n",
    "    pos_dim=config['pos_dim'],\n",
    "    hidden_dim=config['hidden_dim'],\n",
    "    time_dim=config['time_dim']\n",
    ").to(device)\n",
    "\n",
    "optimizer = AdamW(model.parameters(), lr=config['learning_rate'])\n",
    "\n",
    "# Initialize the trainer\n",
    "trainer = DDPMTrainer(\n",
    "    model=model,\n",
    "    q_sampler=q_sampler,\n",
    "    optimizer=optimizer,\n",
    "    device=device,\n",
    "    config=config\n",
    ")\n",
    "\n",
    "print(f\"Model parameters: {sum(p.numel() for p in model.parameters()):,}\")\n",
    "print(f\"Trainer ready to begin training for {config['epochs']} epochs.\")"
   ],
   "id": "481a466b137e3091",
   "outputs": [
    {
     "name": "stdout",
     "output_type": "stream",
     "text": [
      "Model parameters: 400,018\n",
      "Trainer ready to begin training for 100 epochs.\n"
     ]
    }
   ],
   "execution_count": 6
  },
  {
   "metadata": {
    "ExecuteTime": {
     "end_time": "2025-09-03T20:11:10.539120Z",
     "start_time": "2025-09-03T20:07:46.979467Z"
    }
   },
   "cell_type": "code",
   "source": [
    "# Train the model\n",
    "losses = trainer.train(dataloader, num_epochs=config['epochs'])"
   ],
   "id": "3ecebd6687400628",
   "outputs": [
    {
     "name": "stdout",
     "output_type": "stream",
     "text": [
      "Starting training on cuda\n",
      "Model parameters: 400,018\n"
     ]
    },
    {
     "name": "stderr",
     "output_type": "stream",
     "text": [
      "100%|██████████| 78/78 [00:01<00:00, 39.31it/s]\n"
     ]
    },
    {
     "name": "stdout",
     "output_type": "stream",
     "text": [
      "Epoch [0/100], Loss: 2.8282\n"
     ]
    },
    {
     "name": "stderr",
     "output_type": "stream",
     "text": [
      "100%|██████████| 78/78 [00:01<00:00, 41.75it/s]\n",
      "100%|██████████| 78/78 [00:01<00:00, 41.85it/s]\n",
      "100%|██████████| 78/78 [00:01<00:00, 43.54it/s]\n",
      "100%|██████████| 78/78 [00:01<00:00, 44.22it/s]\n",
      "100%|██████████| 78/78 [00:01<00:00, 43.42it/s]\n",
      "100%|██████████| 78/78 [00:02<00:00, 35.24it/s]\n",
      "100%|██████████| 78/78 [00:02<00:00, 38.00it/s]\n",
      "100%|██████████| 78/78 [00:02<00:00, 37.26it/s]\n",
      "100%|██████████| 78/78 [00:01<00:00, 43.05it/s]\n",
      "100%|██████████| 78/78 [00:02<00:00, 34.61it/s]\n"
     ]
    },
    {
     "name": "stdout",
     "output_type": "stream",
     "text": [
      "Epoch [10/100], Loss: 1.2296\n"
     ]
    },
    {
     "name": "stderr",
     "output_type": "stream",
     "text": [
      "100%|██████████| 78/78 [00:02<00:00, 36.49it/s]\n",
      "100%|██████████| 78/78 [00:02<00:00, 37.58it/s]\n",
      "100%|██████████| 78/78 [00:02<00:00, 33.68it/s]\n",
      "100%|██████████| 78/78 [00:01<00:00, 41.20it/s]\n",
      "100%|██████████| 78/78 [00:01<00:00, 45.01it/s]\n",
      "100%|██████████| 78/78 [00:02<00:00, 37.80it/s]\n",
      "100%|██████████| 78/78 [00:02<00:00, 36.17it/s]\n",
      "100%|██████████| 78/78 [00:02<00:00, 37.71it/s]\n",
      "100%|██████████| 78/78 [00:01<00:00, 42.75it/s]\n",
      "100%|██████████| 78/78 [00:02<00:00, 33.80it/s]\n"
     ]
    },
    {
     "name": "stdout",
     "output_type": "stream",
     "text": [
      "Epoch [20/100], Loss: 1.1813\n"
     ]
    },
    {
     "name": "stderr",
     "output_type": "stream",
     "text": [
      "100%|██████████| 78/78 [00:02<00:00, 38.57it/s]\n",
      "100%|██████████| 78/78 [00:01<00:00, 40.78it/s]\n",
      "100%|██████████| 78/78 [00:02<00:00, 32.65it/s]\n",
      "100%|██████████| 78/78 [00:02<00:00, 36.34it/s]\n",
      "100%|██████████| 78/78 [00:02<00:00, 36.37it/s]\n",
      "100%|██████████| 78/78 [00:01<00:00, 44.50it/s]\n",
      "100%|██████████| 78/78 [00:01<00:00, 42.01it/s]\n",
      "100%|██████████| 78/78 [00:01<00:00, 43.48it/s]\n",
      "100%|██████████| 78/78 [00:02<00:00, 38.13it/s]\n",
      "100%|██████████| 78/78 [00:02<00:00, 36.41it/s]\n"
     ]
    },
    {
     "name": "stdout",
     "output_type": "stream",
     "text": [
      "Epoch [30/100], Loss: 1.1623\n"
     ]
    },
    {
     "name": "stderr",
     "output_type": "stream",
     "text": [
      "100%|██████████| 78/78 [00:01<00:00, 40.57it/s]\n",
      "100%|██████████| 78/78 [00:01<00:00, 39.24it/s]\n",
      "100%|██████████| 78/78 [00:01<00:00, 40.78it/s]\n",
      "100%|██████████| 78/78 [00:02<00:00, 35.02it/s]\n",
      "100%|██████████| 78/78 [00:02<00:00, 33.56it/s]\n",
      "100%|██████████| 78/78 [00:01<00:00, 39.72it/s]\n",
      "100%|██████████| 78/78 [00:02<00:00, 38.59it/s]\n",
      "100%|██████████| 78/78 [00:01<00:00, 39.66it/s]\n",
      "100%|██████████| 78/78 [00:02<00:00, 34.08it/s]\n",
      "100%|██████████| 78/78 [00:02<00:00, 37.64it/s]\n"
     ]
    },
    {
     "name": "stdout",
     "output_type": "stream",
     "text": [
      "Epoch [40/100], Loss: 1.1478\n"
     ]
    },
    {
     "name": "stderr",
     "output_type": "stream",
     "text": [
      "100%|██████████| 78/78 [00:01<00:00, 41.54it/s]\n",
      "100%|██████████| 78/78 [00:01<00:00, 43.23it/s]\n",
      "100%|██████████| 78/78 [00:02<00:00, 34.86it/s]\n",
      "100%|██████████| 78/78 [00:02<00:00, 36.20it/s]\n",
      "100%|██████████| 78/78 [00:02<00:00, 38.09it/s]\n",
      "100%|██████████| 78/78 [00:02<00:00, 34.73it/s]\n",
      "100%|██████████| 78/78 [00:01<00:00, 40.57it/s]\n",
      "100%|██████████| 78/78 [00:01<00:00, 39.22it/s]\n",
      "100%|██████████| 78/78 [00:02<00:00, 35.89it/s]\n",
      "100%|██████████| 78/78 [00:02<00:00, 35.56it/s]\n"
     ]
    },
    {
     "name": "stdout",
     "output_type": "stream",
     "text": [
      "Epoch [50/100], Loss: 1.1449\n"
     ]
    },
    {
     "name": "stderr",
     "output_type": "stream",
     "text": [
      "100%|██████████| 78/78 [00:01<00:00, 42.72it/s]\n",
      "100%|██████████| 78/78 [00:01<00:00, 44.47it/s]\n",
      "100%|██████████| 78/78 [00:01<00:00, 44.68it/s]\n",
      "100%|██████████| 78/78 [00:01<00:00, 43.02it/s]\n",
      "100%|██████████| 78/78 [00:01<00:00, 40.15it/s]\n",
      "100%|██████████| 78/78 [00:02<00:00, 35.59it/s]\n",
      "100%|██████████| 78/78 [00:01<00:00, 45.14it/s]\n",
      "100%|██████████| 78/78 [00:01<00:00, 40.77it/s]\n",
      "100%|██████████| 78/78 [00:02<00:00, 34.25it/s]\n",
      "100%|██████████| 78/78 [00:02<00:00, 38.95it/s]\n"
     ]
    },
    {
     "name": "stdout",
     "output_type": "stream",
     "text": [
      "Epoch [60/100], Loss: 1.1388\n"
     ]
    },
    {
     "name": "stderr",
     "output_type": "stream",
     "text": [
      "100%|██████████| 78/78 [00:01<00:00, 42.99it/s]\n",
      "100%|██████████| 78/78 [00:01<00:00, 45.69it/s]\n",
      "100%|██████████| 78/78 [00:01<00:00, 45.46it/s]\n",
      "100%|██████████| 78/78 [00:02<00:00, 36.06it/s]\n",
      "100%|██████████| 78/78 [00:02<00:00, 32.86it/s]\n",
      "100%|██████████| 78/78 [00:02<00:00, 33.00it/s]\n",
      "100%|██████████| 78/78 [00:02<00:00, 31.76it/s]\n",
      "100%|██████████| 78/78 [00:01<00:00, 45.78it/s]\n",
      "100%|██████████| 78/78 [00:01<00:00, 41.78it/s]\n",
      "100%|██████████| 78/78 [00:01<00:00, 44.09it/s]\n"
     ]
    },
    {
     "name": "stdout",
     "output_type": "stream",
     "text": [
      "Epoch [70/100], Loss: 1.1402\n"
     ]
    },
    {
     "name": "stderr",
     "output_type": "stream",
     "text": [
      "100%|██████████| 78/78 [00:02<00:00, 33.82it/s]\n",
      "100%|██████████| 78/78 [00:02<00:00, 33.16it/s]\n",
      "100%|██████████| 78/78 [00:01<00:00, 41.17it/s]\n",
      "100%|██████████| 78/78 [00:01<00:00, 39.94it/s]\n",
      "100%|██████████| 78/78 [00:02<00:00, 34.55it/s]\n",
      "100%|██████████| 78/78 [00:02<00:00, 34.62it/s]\n",
      "100%|██████████| 78/78 [00:02<00:00, 33.34it/s]\n",
      "100%|██████████| 78/78 [00:02<00:00, 33.62it/s]\n",
      "100%|██████████| 78/78 [00:02<00:00, 35.99it/s]\n",
      "100%|██████████| 78/78 [00:01<00:00, 44.80it/s]\n"
     ]
    },
    {
     "name": "stdout",
     "output_type": "stream",
     "text": [
      "Epoch [80/100], Loss: 1.1383\n"
     ]
    },
    {
     "name": "stderr",
     "output_type": "stream",
     "text": [
      "100%|██████████| 78/78 [00:01<00:00, 43.86it/s]\n",
      "100%|██████████| 78/78 [00:01<00:00, 44.73it/s]\n",
      "100%|██████████| 78/78 [00:02<00:00, 38.97it/s]\n",
      "100%|██████████| 78/78 [00:02<00:00, 38.86it/s]\n",
      "100%|██████████| 78/78 [00:02<00:00, 38.93it/s]\n",
      "100%|██████████| 78/78 [00:02<00:00, 36.35it/s]\n",
      "100%|██████████| 78/78 [00:02<00:00, 34.98it/s]\n",
      "100%|██████████| 78/78 [00:02<00:00, 33.71it/s]\n",
      "100%|██████████| 78/78 [00:02<00:00, 33.42it/s]\n",
      "100%|██████████| 78/78 [00:02<00:00, 33.45it/s]\n"
     ]
    },
    {
     "name": "stdout",
     "output_type": "stream",
     "text": [
      "Epoch [90/100], Loss: 1.1346\n"
     ]
    },
    {
     "name": "stderr",
     "output_type": "stream",
     "text": [
      "100%|██████████| 78/78 [00:02<00:00, 38.54it/s]\n",
      "100%|██████████| 78/78 [00:02<00:00, 36.21it/s]\n",
      "100%|██████████| 78/78 [00:01<00:00, 43.54it/s]\n",
      "100%|██████████| 78/78 [00:02<00:00, 34.92it/s]\n",
      "100%|██████████| 78/78 [00:02<00:00, 32.35it/s]\n",
      "100%|██████████| 78/78 [00:01<00:00, 44.35it/s]\n",
      "100%|██████████| 78/78 [00:01<00:00, 41.25it/s]\n",
      "100%|██████████| 78/78 [00:01<00:00, 43.74it/s]\n",
      "100%|██████████| 78/78 [00:01<00:00, 42.23it/s]"
     ]
    },
    {
     "name": "stdout",
     "output_type": "stream",
     "text": [
      "Training completed!\n"
     ]
    },
    {
     "name": "stderr",
     "output_type": "stream",
     "text": [
      "\n"
     ]
    }
   ],
   "execution_count": 7
  },
  {
   "metadata": {
    "ExecuteTime": {
     "end_time": "2025-09-03T20:11:10.783527Z",
     "start_time": "2025-09-03T20:11:10.576244Z"
    }
   },
   "cell_type": "code",
   "source": [
    "# Visualize Loss and Save Checkpoints\n",
    "\n",
    "# Plot the training loss\n",
    "plt.figure(figsize=(10, 6))\n",
    "plt.plot(trainer.losses, label=\"Training Loss\")\n",
    "plt.title(\"DDPM Training Loss over Epochs\")\n",
    "plt.xlabel(\"Epochs\")\n",
    "plt.ylabel(\"Loss\")\n",
    "plt.grid(True)\n",
    "plt.legend()\n",
    "plt.show()\n",
    "\n",
    "# Save the final model checkpoint\n",
    "os.makedirs(\"checkpoints\", exist_ok=True)\n",
    "save_checkpoint(\n",
    "    filepath=checkpoint_path,\n",
    "    model=model,\n",
    "    optimizer=optimizer,\n",
    "    epoch=trainer.epoch,\n",
    "    loss=np.mean(trainer.losses[-10:]), # Average of last 10 epochs\n",
    "    metrics={}\n",
    ")"
   ],
   "id": "8efc45087638345e",
   "outputs": [
    {
     "data": {
      "text/plain": [
       "<Figure size 1000x600 with 1 Axes>"
      ],
      "image/png": "[encoded data removed]"
     },
     "metadata": {},
     "output_type": "display_data"
    },
    {
     "name": "stderr",
     "output_type": "stream",
     "text": [
      "INFO:mol_diff_3d.utils.checkpoints:Checkpoint saved to ../results/mol_diff_3d/mol_diff_final.pth\n"
     ]
    }
   ],
   "execution_count": 8
  },
  {
   "metadata": {},
   "cell_type": "markdown",
   "source": [
    "# Generation and Validation\n",
    "\n",
    "After training, we use the model's reverse diffusion process to generate new molecules. We'll start with pure noise and let the DDPMPsampler guide the generation step-by-step."
   ],
   "id": "be405a35cd2e63cc"
  },
  {
   "metadata": {
    "ExecuteTime": {
     "end_time": "2025-09-03T20:11:14.046389Z",
     "start_time": "2025-09-03T20:11:10.802612Z"
    }
   },
   "cell_type": "code",
   "source": [
    "# Import generation-specific utilities\n",
    "from mol_diff_3d.sampling.samplers import DDPMPsampler\n",
    "from mol_diff_3d.generation.generator import generate_molecules_from_model\n",
    "from mol_diff_3d.utils.checkpoints import load_checkpoint\n",
    "\n",
    "# Load the trained model from the checkpoint\n",
    "print(\"Loading trained model for generation...\")\n",
    "load_checkpoint(filepath=checkpoint_path, model=model, optimizer=optimizer)\n",
    "\n",
    "# Instantiate the reverse sampler using the same noise scheduler parameters\n",
    "p_sampler = DDPMPsampler(noise_scheduler.get_parameters())\n",
    "\n",
    "# Generate molecules\n",
    "num_to_generate = 10\n",
    "print(f\"Starting to generate {num_to_generate} molecules...\")\n",
    "\n",
    "# CORRECTED LINE: Get max_atoms from the `info` dictionary\n",
    "generated_mols, generated_smiles = generate_molecules_from_model(\n",
    "    model=model,\n",
    "    p_sampler=p_sampler,\n",
    "    num_molecules=num_to_generate,\n",
    "    max_atoms=info['max_atoms'],\n",
    "    atom_dim=config['atom_dim'],\n",
    "    pos_dim=config['pos_dim'],\n",
    "    device=device\n",
    ")"
   ],
   "id": "f11ea2ccba22a153",
   "outputs": [
    {
     "name": "stderr",
     "output_type": "stream",
     "text": [
      "INFO:mol_diff_3d.utils.checkpoints:Checkpoint loaded from ../results/mol_diff_3d/mol_diff_final.pth\n",
      "INFO:mol_diff_3d.utils.checkpoints:Resumed from epoch 0, loss: 1.1319\n",
      "INFO:mol_diff_3d.generation.generator:Starting molecule generation on cuda...\n"
     ]
    },
    {
     "name": "stdout",
     "output_type": "stream",
     "text": [
      "Loading trained model for generation...\n",
      "Starting to generate 10 molecules...\n"
     ]
    },
    {
     "name": "stderr",
     "output_type": "stream",
     "text": [
      "INFO:mol_diff_3d.generation.generator:Generated 10 valid molecules.\n"
     ]
    }
   ],
   "execution_count": 9
  },
  {
   "metadata": {
    "ExecuteTime": {
     "end_time": "2025-09-03T20:12:40.520560Z",
     "start_time": "2025-09-03T20:12:40.486385Z"
    }
   },
   "cell_type": "code",
   "source": [
    "# Import visualization utility\n",
    "import nglview as nv\n",
    "from rdkit import Chem\n",
    "from rdkit.Chem import AllChem\n",
    "\n",
    "# Print validation results\n",
    "print(f\"\\n--- Generation Results ---\")\n",
    "print(f\"Attempted to generate: {num_to_generate} molecules\")\n",
    "print(f\"Successfully generated: {len(generated_mols)} valid molecules\")\n",
    "\n",
    "# Display the generated SMILES strings\n",
    "print(\"\\nGenerated Valid SMILES:\")\n",
    "for i, smiles in enumerate(generated_smiles):\n",
    "    print(f\"  {i+1}: {smiles}\")\n",
    "\n",
    "# Visualize the first generated molecule\n",
    "if len(generated_mols) > 0:\n",
    "    print(\"\\n--- 3D Visualization of the First Generated Molecule ---\")\n",
    "    mol_to_visualize = generated_mols[0]\n",
    "\n",
    "    # NGLView requires a 2D depiction for rendering, even for a 3D molecule\n",
    "    mol_with_2d = Chem.Mol(mol_to_visualize)\n",
    "    AllChem.Compute2DCoords(mol_with_2d)\n",
    "\n",
    "    # Display the molecule in the notebook\n",
    "    view = nv.show_rdkit(mol_with_2d)\n",
    "    view.add_representation('ball+stick')\n",
    "    view.center()\n",
    "    display(view)"
   ],
   "id": "b8fab5172b3f1549",
   "outputs": [
    {
     "name": "stdout",
     "output_type": "stream",
     "text": [
      "\n",
      "--- Generation Results ---\n",
      "Attempted to generate: 10 molecules\n",
      "Successfully generated: 10 valid molecules\n",
      "\n",
      "Generated Valid SMILES:\n",
      "  1: C.C.C.C.C.C.C.C.C.C.C.C.C.C.C.C.C.C.C.C.C.C.C.C.C\n",
      "  2: C.C.C.C.C.C.C.C.C.C.C.C.C.C.C.C.C.C.C.C.C.C.C.C.C\n",
      "  3: C.C.C.C.C.C.C.C.C.C.C.C.C.C.C.C.C.C.C.C.C.C.C.C.C\n",
      "  4: C.C.C.C.C.C.C.C.C.C.C.C.C.C.C.C.C.C.C.C.C.C.C.C.C\n",
      "  5: C.C.C.C.C.C.C.C.C.C.C.C.C.C.C.C.C.C.C.C.C.C.C.C.C\n",
      "  6: C.C.C.C.C.C.C.C.C.C.C.C.C.C.C.C.C.C.C.C.C.C.C.C.C\n",
      "  7: C.C.C.C.C.C.C.C.C.C.C.C.C.C.C.C.C.C.C.C.C.C.C.C.C\n",
      "  8: C.C.C.C.C.C.C.C.C.C.C.C.C.C.C.C.C.C.C.C.C.C.C.C.C\n",
      "  9: C.C.C.C.C.C.C.C.C.C.C.C.C.C.C.C.C.C.C.C.C.C.C.C.C\n",
      "  10: C.C.C.C.C.C.C.C.C.C.C.C.C.C.C.C.C.C.C.C.C.C.C.C.C\n",
      "\n",
      "--- 3D Visualization of the First Generated Molecule ---\n"
     ]
    },
    {
     "data": {
      "text/plain": [
       "NGLWidget()"
      ],
      "application/vnd.jupyter.widget-view+json": {
       "version_major": 2,
       "version_minor": 0,
       "model_id": "b1c96b7e641d43979d566f0805935889"
      }
     },
     "metadata": {},
     "output_type": "display_data"
    }
   ],
   "execution_count": 11
  }
 ],
 "metadata": {
  "kernelspec": {
   "display_name": "Python 3",
   "language": "python",
   "name": "python3"
  },
  "language_info": {
   "codemirror_mode": {
    "name": "ipython",
    "version": 2
   },
   "file_extension": ".py",
   "mimetype": "text/x-python",
   "name": "python",
   "nbconvert_exporter": "python",
   "pygments_lexer": "ipython2",
   "version": "2.7.6"
  }
 },
 "nbformat": 4,
 "nbformat_minor": 5
}
