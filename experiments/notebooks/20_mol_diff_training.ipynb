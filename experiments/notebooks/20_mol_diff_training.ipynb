{
 "cells": [
  {
   "metadata": {},
   "cell_type": "markdown",
   "source": [
    "# MolDiff 3D Training Script\n",
    "\n",
    "This notebook shows how to train a 3D molecular diffusion model, MolDiff. MolDiff is designed to generate 3D molecular structures using a graph neural network (GNN) based diffusion model, while maintaining E(3) equivariance. The model is trained on the QM9 dataset, which contains small organic molecules with up to 9 heavy atoms.\n",
    "\n",
    "\"In this notebook, we move from 2D molecular graphs to 3D molecular generation. Unlike the 2D model that only generates atom and bond types, this 3D diffusion model generates both atom features and 3D atomic coordinates simultaneously. The key innovation is using E(3)-equivariant Graph Neural Networks (GNNs) that are specifically designed to handle 3D data while being invariant to rotations and translations, ensuring the generated molecules have a valid geometry.\"\n",
    "\n",
    "\n",
    "##  Key Concepts:\n",
    "- **E(3) Equivariance**: The model respects the symmetries of 3D space, meaning that rotations and translations of the input lead to corresponding transformations in the output.\n",
    "- **Graph Neural Networks (GNNs)**: The model uses GNNs to process molecular graphs, capturing the relationships between atoms and bonds.\n",
    "- **DDPM (Denoising Diffusion Probabilistic Models)**: A type of generative model that learns to reverse a diffusion process, enabling the generation of high-quality samples.\n",
    "- **QM9 Dataset**: A widely used benchmark dataset for molecular machine learning, containing 134k small organic molecules with up to 9 heavy atoms (C, O, N, F)."
   ],
   "id": "758d2a5cc746fb18"
  },
  {
   "metadata": {
    "collapsed": true,
    "ExecuteTime": {
     "end_time": "2025-08-29T16:03:39.200427Z",
     "start_time": "2025-08-29T16:03:39.192404Z"
    }
   },
   "cell_type": "code",
   "source": [
    "import torch\n",
    "import torch.nn.functional as F\n",
    "from torch_geometric.data import DataLoader\n",
    "import logging\n",
    "import os\n",
    "from tqdm import tqdm\n",
    "from pathlib import Path\n",
    "from torch.optim import AdamW\n",
    "import matplotlib.pyplot as plt\n",
    "import seaborn as sns\n",
    "import numpy as np\n",
    "\n",
    "# Import the refactored components\n",
    "from mol_diff_3d.data.datasets import Qm9MolecularDataset\n",
    "from mol_diff_3d.models.diffusion import MolecularDiffusionModel\n",
    "from mol_diff_3d.models.noise_scheduler import NoiseScheduler\n",
    "from mol_diff_3d.sampling.samplers import DDPMQSampler\n",
    "from mol_diff_3d.training.trainer import DDPMTrainer\n",
    "from mol_diff_3d.utils.checkpoints import save_checkpoint"
   ],
   "id": "initial_id",
   "outputs": [],
   "execution_count": 9
  },
  {
   "metadata": {
    "ExecuteTime": {
     "end_time": "2025-08-29T16:03:39.258782Z",
     "start_time": "2025-08-29T16:03:39.252131Z"
    }
   },
   "cell_type": "code",
   "source": [
    "# Set up logging and device\n",
    "logging.basicConfig(level=logging.INFO)\n",
    "device = torch.device(\"cuda\" if torch.cuda.is_available() else \"cpu\")\n",
    "print(f\"Using device: {device}\")"
   ],
   "id": "f7efd12819431011",
   "outputs": [
    {
     "name": "stdout",
     "output_type": "stream",
     "text": [
      "Using device: cuda\n"
     ]
    }
   ],
   "execution_count": 10
  },
  {
   "metadata": {
    "ExecuteTime": {
     "end_time": "2025-08-29T16:03:39.317328Z",
     "start_time": "2025-08-29T16:03:39.309825Z"
    }
   },
   "cell_type": "code",
   "source": [
    "# Paths for saving models and results\n",
    "RESULTS_DIR = Path(\"../results/mol_diff_3d\")\n",
    "RESULTS_DIR.mkdir(parents=True, exist_ok=True)\n",
    "\n",
    "# Define the checkpoint path within the results directory\n",
    "checkpoint_path = RESULTS_DIR / \"mol_diff_final.pth\""
   ],
   "id": "ea84c68668e1acae",
   "outputs": [],
   "execution_count": 11
  },
  {
   "metadata": {},
   "cell_type": "markdown",
   "source": [
    "## QM9 dataset\n",
    "\n",
    "The QM9 dataset provides us with 3D molecular structures. We can see that each node now has a new feature: pos, a 3-dimensional vector representing its x, y, z coordinates. This is the continuous data we will add noise to and subsequently denoise."
   ],
   "id": "719bb27a2fa3a8b1"
  },
  {
   "metadata": {
    "ExecuteTime": {
     "end_time": "2025-08-29T16:03:46.902581Z",
     "start_time": "2025-08-29T16:03:39.376012Z"
    }
   },
   "cell_type": "code",
   "source": [
    "# Data Loading and Preparation\n",
    "\n",
    "# Load the QM9 dataset\n",
    "dataset = Qm9MolecularDataset(max_atoms=25)\n",
    "\n",
    "# Get dataset info\n",
    "info = dataset.get_dataset_info()\n",
    "print(\"--- Dataset Information ---\")\n",
    "for key, value in info.items():\n",
    "    print(f\"{key}: {value}\")\n",
    "\n",
    "# Create a DataLoader\n",
    "dataloader = dataset.create_dataloader(batch_size=64, shuffle=True, max_samples=5000)\n",
    "\n",
    "# Inspect a sample batch\n",
    "sample_batch = next(iter(dataloader))\n",
    "print(\"\\n--- Sample Batch Information ---\")\n",
    "print(f\"Number of molecules in batch: {sample_batch.num_graphs}\")\n",
    "print(f\"Atom features shape (x): {sample_batch.x.shape}\")\n",
    "print(f\"3D positions shape (pos): {sample_batch.pos.shape}\")\n",
    "print(f\"Edge index shape: {sample_batch.edge_index.shape}\")\n"
   ],
   "id": "f5cb0ca5f64b7c9c",
   "outputs": [
    {
     "name": "stderr",
     "output_type": "stream",
     "text": [
      "INFO:mol_diff_3d.data.datasets:Loading DeepChem dataset: QM9\n",
      "INFO:deepchem.data.datasets:Loading dataset from disk.\n",
      "INFO:deepchem.data.datasets:Loading dataset from disk.\n",
      "INFO:deepchem.data.datasets:Loading dataset from disk.\n",
      "INFO:mol_diff_3d.data.datasets:Loaded DiskDataset with 105576 molecules\n",
      "INFO:mol_diff_3d.data.datasets:Converting 5000 molecules to graphs...\n",
      "INFO:mol_diff_3d.data.datasets:Processed 0/5000 molecules...\n"
     ]
    },
    {
     "name": "stdout",
     "output_type": "stream",
     "text": [
      "--- Dataset Information ---\n",
      "name: qm9\n",
      "size: 105576\n",
      "max_atoms: 25\n",
      "atom_feature_dim: 11\n"
     ]
    },
    {
     "name": "stderr",
     "output_type": "stream",
     "text": [
      "INFO:mol_diff_3d.data.datasets:Successfully converted 4980/5000 molecules (99.6%)\n",
      "INFO:mol_diff_3d.data.datasets:Failed conversions: 20\n"
     ]
    },
    {
     "name": "stdout",
     "output_type": "stream",
     "text": [
      "\n",
      "--- Sample Batch Information ---\n",
      "Number of molecules in batch: 64\n",
      "Atom features shape (x): torch.Size([1159, 11])\n",
      "3D positions shape (pos): torch.Size([1159, 3])\n",
      "Edge index shape: torch.Size([2, 2378])\n"
     ]
    },
    {
     "name": "stderr",
     "output_type": "stream",
     "text": [
      "/home/jantine/miniconda3/envs/diff_gnn/lib/python3.11/site-packages/torch_geometric/deprecation.py:26: UserWarning: 'data.DataLoader' is deprecated, use 'loader.DataLoader' instead\n",
      "  warnings.warn(out)\n"
     ]
    }
   ],
   "execution_count": 12
  },
  {
   "metadata": {},
   "cell_type": "markdown",
   "source": [
    "## Model Architecture\n",
    "\n",
    "The core of our model is the E(3)-equivariant GNN. Think of it as a special kind of GNN that has 'spatial awareness.' While a normal GNN would see two identical molecules in different orientations as different graphs, an E(3)-equivariant GNN recognizes them as the same. It ensures that if we rotate a molecule, its representation and the final generated molecule also rotate in the exact same way.  This is critical for generating chemically valid 3D structures."
   ],
   "id": "54f80acabd3e25a6"
  },
  {
   "metadata": {
    "ExecuteTime": {
     "end_time": "2025-08-29T16:03:46.917656Z",
     "start_time": "2025-08-29T16:03:46.913524Z"
    }
   },
   "cell_type": "code",
   "source": [
    "# Set hyperparameters\n",
    "config = {\n",
    "    'atom_dim': info['atom_feature_dim'],\n",
    "    'pos_dim': 3,\n",
    "    'hidden_dim': 128,\n",
    "    'time_dim': 128,\n",
    "    'num_timesteps': 1000,\n",
    "    'learning_rate': 1e-4,\n",
    "    'epochs': 100,\n",
    "    'log_interval': 10\n",
    "}"
   ],
   "id": "1b3052e36d3348b9",
   "outputs": [],
   "execution_count": 13
  },
  {
   "metadata": {
    "ExecuteTime": {
     "end_time": "2025-08-29T16:03:47.000692Z",
     "start_time": "2025-08-29T16:03:46.968798Z"
    }
   },
   "cell_type": "code",
   "source": [
    "# Initialize model and components\n",
    "noise_scheduler = NoiseScheduler(num_timesteps=config['num_timesteps']).to(device)\n",
    "q_sampler = DDPMQSampler(noise_scheduler.get_parameters())\n",
    "model = MolecularDiffusionModel(\n",
    "    atom_dim=config['atom_dim'],\n",
    "    pos_dim=config['pos_dim'],\n",
    "    hidden_dim=config['hidden_dim'],\n",
    "    time_dim=config['time_dim']\n",
    ").to(device)\n",
    "\n",
    "optimizer = AdamW(model.parameters(), lr=config['learning_rate'])\n",
    "\n",
    "# Initialize the trainer\n",
    "trainer = DDPMTrainer(\n",
    "    model=model,\n",
    "    q_sampler=q_sampler,\n",
    "    optimizer=optimizer,\n",
    "    device=device,\n",
    "    config=config\n",
    ")\n",
    "\n",
    "print(f\"Model parameters: {sum(p.numel() for p in model.parameters()):,}\")\n",
    "print(f\"Trainer ready to begin training for {config['epochs']} epochs.\")"
   ],
   "id": "481a466b137e3091",
   "outputs": [
    {
     "name": "stdout",
     "output_type": "stream",
     "text": [
      "Model parameters: 333,970\n",
      "Trainer ready to begin training for 100 epochs.\n"
     ]
    }
   ],
   "execution_count": 14
  },
  {
   "metadata": {
    "ExecuteTime": {
     "end_time": "2025-08-29T16:07:23.683700Z",
     "start_time": "2025-08-29T16:03:47.058446Z"
    }
   },
   "cell_type": "code",
   "source": [
    "# Train the model\n",
    "losses = trainer.train(dataloader, num_epochs=config['epochs'])"
   ],
   "id": "3ecebd6687400628",
   "outputs": [
    {
     "name": "stdout",
     "output_type": "stream",
     "text": [
      "Starting training on cuda\n",
      "Model parameters: 333,970\n"
     ]
    },
    {
     "name": "stderr",
     "output_type": "stream",
     "text": [
      "100%|██████████| 78/78 [00:02<00:00, 35.64it/s]\n"
     ]
    },
    {
     "name": "stdout",
     "output_type": "stream",
     "text": [
      "Epoch [0/100], Loss: 1.8631\n"
     ]
    },
    {
     "name": "stderr",
     "output_type": "stream",
     "text": [
      "100%|██████████| 78/78 [00:02<00:00, 35.51it/s]\n",
      "100%|██████████| 78/78 [00:02<00:00, 32.30it/s]\n",
      "100%|██████████| 78/78 [00:02<00:00, 36.96it/s]\n",
      "100%|██████████| 78/78 [00:02<00:00, 33.74it/s]\n",
      "100%|██████████| 78/78 [00:02<00:00, 35.93it/s]\n",
      "100%|██████████| 78/78 [00:02<00:00, 35.70it/s]\n",
      "100%|██████████| 78/78 [00:02<00:00, 36.30it/s]\n",
      "100%|██████████| 78/78 [00:02<00:00, 34.96it/s]\n",
      "100%|██████████| 78/78 [00:01<00:00, 43.29it/s]\n",
      "100%|██████████| 78/78 [00:01<00:00, 39.31it/s]\n"
     ]
    },
    {
     "name": "stdout",
     "output_type": "stream",
     "text": [
      "Epoch [10/100], Loss: 1.0818\n"
     ]
    },
    {
     "name": "stderr",
     "output_type": "stream",
     "text": [
      "100%|██████████| 78/78 [00:02<00:00, 33.11it/s]\n",
      "100%|██████████| 78/78 [00:02<00:00, 32.63it/s]\n",
      "100%|██████████| 78/78 [00:02<00:00, 32.28it/s]\n",
      "100%|██████████| 78/78 [00:02<00:00, 31.52it/s]\n",
      "100%|██████████| 78/78 [00:02<00:00, 33.89it/s]\n",
      "100%|██████████| 78/78 [00:01<00:00, 42.18it/s]\n",
      "100%|██████████| 78/78 [00:02<00:00, 38.19it/s]\n",
      "100%|██████████| 78/78 [00:01<00:00, 39.12it/s]\n",
      "100%|██████████| 78/78 [00:01<00:00, 40.18it/s]\n",
      "100%|██████████| 78/78 [00:02<00:00, 32.30it/s]\n"
     ]
    },
    {
     "name": "stdout",
     "output_type": "stream",
     "text": [
      "Epoch [20/100], Loss: 1.0624\n"
     ]
    },
    {
     "name": "stderr",
     "output_type": "stream",
     "text": [
      "100%|██████████| 78/78 [00:02<00:00, 32.90it/s]\n",
      "100%|██████████| 78/78 [00:02<00:00, 35.82it/s]\n",
      "100%|██████████| 78/78 [00:02<00:00, 32.85it/s]\n",
      "100%|██████████| 78/78 [00:02<00:00, 31.98it/s]\n",
      "100%|██████████| 78/78 [00:01<00:00, 43.11it/s]\n",
      "100%|██████████| 78/78 [00:01<00:00, 44.75it/s]\n",
      "100%|██████████| 78/78 [00:02<00:00, 38.45it/s]\n",
      "100%|██████████| 78/78 [00:02<00:00, 32.99it/s]\n",
      "100%|██████████| 78/78 [00:01<00:00, 39.52it/s]\n",
      "100%|██████████| 78/78 [00:02<00:00, 38.71it/s]\n"
     ]
    },
    {
     "name": "stdout",
     "output_type": "stream",
     "text": [
      "Epoch [30/100], Loss: 1.0568\n"
     ]
    },
    {
     "name": "stderr",
     "output_type": "stream",
     "text": [
      "100%|██████████| 78/78 [00:02<00:00, 33.23it/s]\n",
      "100%|██████████| 78/78 [00:02<00:00, 32.05it/s]\n",
      "100%|██████████| 78/78 [00:02<00:00, 36.04it/s]\n",
      "100%|██████████| 78/78 [00:01<00:00, 40.73it/s]\n",
      "100%|██████████| 78/78 [00:02<00:00, 36.69it/s]\n",
      "100%|██████████| 78/78 [00:02<00:00, 37.48it/s]\n",
      "100%|██████████| 78/78 [00:01<00:00, 42.23it/s]\n",
      "100%|██████████| 78/78 [00:01<00:00, 40.73it/s]\n",
      "100%|██████████| 78/78 [00:02<00:00, 34.33it/s]\n",
      "100%|██████████| 78/78 [00:02<00:00, 36.17it/s]\n"
     ]
    },
    {
     "name": "stdout",
     "output_type": "stream",
     "text": [
      "Epoch [40/100], Loss: 1.0465\n"
     ]
    },
    {
     "name": "stderr",
     "output_type": "stream",
     "text": [
      "100%|██████████| 78/78 [00:02<00:00, 32.56it/s]\n",
      "100%|██████████| 78/78 [00:02<00:00, 32.96it/s]\n",
      "100%|██████████| 78/78 [00:02<00:00, 34.65it/s]\n",
      "100%|██████████| 78/78 [00:02<00:00, 33.82it/s]\n",
      "100%|██████████| 78/78 [00:01<00:00, 44.62it/s]\n",
      "100%|██████████| 78/78 [00:02<00:00, 38.17it/s]\n",
      "100%|██████████| 78/78 [00:02<00:00, 38.36it/s]\n",
      "100%|██████████| 78/78 [00:02<00:00, 34.28it/s]\n",
      "100%|██████████| 78/78 [00:02<00:00, 35.54it/s]\n",
      "100%|██████████| 78/78 [00:02<00:00, 38.20it/s]\n"
     ]
    },
    {
     "name": "stdout",
     "output_type": "stream",
     "text": [
      "Epoch [50/100], Loss: 1.0389\n"
     ]
    },
    {
     "name": "stderr",
     "output_type": "stream",
     "text": [
      "100%|██████████| 78/78 [00:02<00:00, 34.10it/s]\n",
      "100%|██████████| 78/78 [00:02<00:00, 37.97it/s]\n",
      "100%|██████████| 78/78 [00:02<00:00, 36.37it/s]\n",
      "100%|██████████| 78/78 [00:02<00:00, 35.19it/s]\n",
      "100%|██████████| 78/78 [00:01<00:00, 40.31it/s]\n",
      "100%|██████████| 78/78 [00:02<00:00, 35.65it/s]\n",
      "100%|██████████| 78/78 [00:02<00:00, 35.17it/s]\n",
      "100%|██████████| 78/78 [00:02<00:00, 33.42it/s]\n",
      "100%|██████████| 78/78 [00:02<00:00, 35.82it/s]\n",
      "100%|██████████| 78/78 [00:02<00:00, 33.33it/s]\n"
     ]
    },
    {
     "name": "stdout",
     "output_type": "stream",
     "text": [
      "Epoch [60/100], Loss: 1.0368\n"
     ]
    },
    {
     "name": "stderr",
     "output_type": "stream",
     "text": [
      "100%|██████████| 78/78 [00:02<00:00, 33.50it/s]\n",
      "100%|██████████| 78/78 [00:02<00:00, 34.46it/s]\n",
      "100%|██████████| 78/78 [00:01<00:00, 39.50it/s]\n",
      "100%|██████████| 78/78 [00:02<00:00, 34.36it/s]\n",
      "100%|██████████| 78/78 [00:02<00:00, 35.91it/s]\n",
      "100%|██████████| 78/78 [00:02<00:00, 35.80it/s]\n",
      "100%|██████████| 78/78 [00:01<00:00, 39.95it/s]\n",
      "100%|██████████| 78/78 [00:01<00:00, 39.03it/s]\n",
      "100%|██████████| 78/78 [00:02<00:00, 37.99it/s]\n",
      "100%|██████████| 78/78 [00:02<00:00, 37.27it/s]\n"
     ]
    },
    {
     "name": "stdout",
     "output_type": "stream",
     "text": [
      "Epoch [70/100], Loss: 1.0361\n"
     ]
    },
    {
     "name": "stderr",
     "output_type": "stream",
     "text": [
      "100%|██████████| 78/78 [00:02<00:00, 35.79it/s]\n",
      "100%|██████████| 78/78 [00:02<00:00, 35.91it/s]\n",
      "100%|██████████| 78/78 [00:01<00:00, 39.55it/s]\n",
      "100%|██████████| 78/78 [00:02<00:00, 32.54it/s]\n",
      "100%|██████████| 78/78 [00:02<00:00, 33.64it/s]\n",
      "100%|██████████| 78/78 [00:02<00:00, 33.77it/s]\n",
      "100%|██████████| 78/78 [00:01<00:00, 43.17it/s]\n",
      "100%|██████████| 78/78 [00:02<00:00, 37.73it/s]\n",
      "100%|██████████| 78/78 [00:02<00:00, 36.12it/s]\n",
      "100%|██████████| 78/78 [00:02<00:00, 36.37it/s]\n"
     ]
    },
    {
     "name": "stdout",
     "output_type": "stream",
     "text": [
      "Epoch [80/100], Loss: 1.0345\n"
     ]
    },
    {
     "name": "stderr",
     "output_type": "stream",
     "text": [
      "100%|██████████| 78/78 [00:02<00:00, 36.20it/s]\n",
      "100%|██████████| 78/78 [00:02<00:00, 37.18it/s]\n",
      "100%|██████████| 78/78 [00:02<00:00, 36.33it/s]\n",
      "100%|██████████| 78/78 [00:01<00:00, 43.77it/s]\n",
      "100%|██████████| 78/78 [00:02<00:00, 37.06it/s]\n",
      "100%|██████████| 78/78 [00:02<00:00, 34.63it/s]\n",
      "100%|██████████| 78/78 [00:02<00:00, 35.30it/s]\n",
      "100%|██████████| 78/78 [00:02<00:00, 35.83it/s]\n",
      "100%|██████████| 78/78 [00:02<00:00, 34.45it/s]\n",
      "100%|██████████| 78/78 [00:02<00:00, 34.50it/s]\n"
     ]
    },
    {
     "name": "stdout",
     "output_type": "stream",
     "text": [
      "Epoch [90/100], Loss: 1.0333\n"
     ]
    },
    {
     "name": "stderr",
     "output_type": "stream",
     "text": [
      "100%|██████████| 78/78 [00:02<00:00, 34.08it/s]\n",
      "100%|██████████| 78/78 [00:02<00:00, 34.40it/s]\n",
      "100%|██████████| 78/78 [00:02<00:00, 33.43it/s]\n",
      "100%|██████████| 78/78 [00:01<00:00, 39.41it/s]\n",
      "100%|██████████| 78/78 [00:02<00:00, 37.20it/s]\n",
      "100%|██████████| 78/78 [00:02<00:00, 33.76it/s]\n",
      "100%|██████████| 78/78 [00:02<00:00, 34.08it/s]\n",
      "100%|██████████| 78/78 [00:02<00:00, 36.17it/s]\n",
      "100%|██████████| 78/78 [00:02<00:00, 36.17it/s]"
     ]
    },
    {
     "name": "stdout",
     "output_type": "stream",
     "text": [
      "Training completed!\n"
     ]
    },
    {
     "name": "stderr",
     "output_type": "stream",
     "text": [
      "\n"
     ]
    }
   ],
   "execution_count": 15
  },
  {
   "metadata": {
    "ExecuteTime": {
     "end_time": "2025-08-29T16:07:23.901391Z",
     "start_time": "2025-08-29T16:07:23.733198Z"
    }
   },
   "cell_type": "code",
   "source": [
    "# Visualize Loss and Save Checkpoints\n",
    "\n",
    "# Plot the training loss\n",
    "plt.figure(figsize=(10, 6))\n",
    "plt.plot(trainer.losses, label=\"Training Loss\")\n",
    "plt.title(\"DDPM Training Loss over Epochs\")\n",
    "plt.xlabel(\"Epochs\")\n",
    "plt.ylabel(\"Loss\")\n",
    "plt.grid(True)\n",
    "plt.legend()\n",
    "plt.show()\n",
    "\n",
    "# Save the final model checkpoint\n",
    "os.makedirs(\"checkpoints\", exist_ok=True)\n",
    "save_checkpoint(\n",
    "    filepath=checkpoint_path,\n",
    "    model=model,\n",
    "    optimizer=optimizer,\n",
    "    epoch=trainer.epoch,\n",
    "    loss=np.mean(trainer.losses[-10:]), # Average of last 10 epochs\n",
    "    metrics={}\n",
    ")"
   ],
   "id": "8efc45087638345e",
   "outputs": [
    {
     "data": {
      "text/plain": [
       "<Figure size 1000x600 with 1 Axes>"
      ],
      "image/png": "[encoded data removed]"
     },
     "metadata": {},
     "output_type": "display_data"
    },
    {
     "name": "stderr",
     "output_type": "stream",
     "text": [
      "INFO:mol_diff_3d.utils.checkpoints:Checkpoint saved to ../results/mol_diff_3d/mol_diff_final.pth\n"
     ]
    }
   ],
   "execution_count": 16
  },
  {
   "metadata": {
    "ExecuteTime": {
     "end_time": "2025-08-29T16:07:23.927570Z",
     "start_time": "2025-08-29T16:07:23.925246Z"
    }
   },
   "cell_type": "code",
   "source": "",
   "id": "f11ea2ccba22a153",
   "outputs": [],
   "execution_count": null
  }
 ],
 "metadata": {
  "kernelspec": {
   "display_name": "Python 3",
   "language": "python",
   "name": "python3"
  },
  "language_info": {
   "codemirror_mode": {
    "name": "ipython",
    "version": 2
   },
   "file_extension": ".py",
   "mimetype": "text/x-python",
   "name": "python",
   "nbconvert_exporter": "python",
   "pygments_lexer": "ipython2",
   "version": "2.7.6"
  }
 },
 "nbformat": 4,
 "nbformat_minor": 5
}
