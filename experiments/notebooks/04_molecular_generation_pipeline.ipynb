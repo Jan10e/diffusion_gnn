{
 "cells": [
  {
   "metadata": {},
   "cell_type": "markdown",
   "source": "# Generate molecules with a GNN diffusion model",
   "id": "742a3a083bf1b550"
  },
  {
   "metadata": {
    "ExecuteTime": {
     "end_time": "2025-08-25T15:20:42.051696Z",
     "start_time": "2025-08-25T15:20:37.901525Z"
    }
   },
   "cell_type": "code",
   "source": [
    "import torch\n",
    "import numpy as np\n",
    "import matplotlib.pyplot as plt\n",
    "from tqdm import tqdm\n",
    "\n",
    "from diffusion_gnn.models import create_diffusion_model, create_noise_scheduler\n",
    "from diffusion_gnn.data.deepchem import DeepChemMolecularDataset\n",
    "from diffusion_gnn.utils.generation import sample_from_model, features_to_atom_types\n",
    "\n",
    "device = torch.device('cuda' if torch.cuda.is_available() else 'cpu')"
   ],
   "id": "7c1552ba033e9b73",
   "outputs": [
    {
     "name": "stderr",
     "output_type": "stream",
     "text": [
      "\n",
      "A module that was compiled using NumPy 1.x cannot be run in\n",
      "NumPy 2.3.2 as it may crash. To support both 1.x and 2.x\n",
      "versions of NumPy, modules must be compiled with NumPy 2.0.\n",
      "Some module may need to rebuild instead e.g. with 'pybind11>=2.12'.\n",
      "\n",
      "If you are a user of the module, the easiest solution will be to\n",
      "downgrade to 'numpy<2' or try to upgrade the affected module.\n",
      "We expect that some modules will need time to support NumPy 2.\n",
      "\n",
      "Traceback (most recent call last):  File \"<frozen runpy>\", line 198, in _run_module_as_main\n",
      "  File \"<frozen runpy>\", line 88, in _run_code\n",
      "  File \"/Users/jantinebroek/miniconda3/envs/diff_gnn/lib/python3.11/site-packages/ipykernel_launcher.py\", line 18, in <module>\n",
      "    app.launch_new_instance()\n",
      "  File \"/Users/jantinebroek/miniconda3/envs/diff_gnn/lib/python3.11/site-packages/traitlets/config/application.py\", line 1075, in launch_instance\n",
      "    app.start()\n",
      "  File \"/Users/jantinebroek/miniconda3/envs/diff_gnn/lib/python3.11/site-packages/ipykernel/kernelapp.py\", line 739, in start\n",
      "    self.io_loop.start()\n",
      "  File \"/Users/jantinebroek/miniconda3/envs/diff_gnn/lib/python3.11/site-packages/tornado/platform/asyncio.py\", line 211, in start\n",
      "    self.asyncio_loop.run_forever()\n",
      "  File \"/Users/jantinebroek/miniconda3/envs/diff_gnn/lib/python3.11/asyncio/base_events.py\", line 608, in run_forever\n",
      "    self._run_once()\n",
      "  File \"/Users/jantinebroek/miniconda3/envs/diff_gnn/lib/python3.11/asyncio/base_events.py\", line 1936, in _run_once\n",
      "    handle._run()\n",
      "  File \"/Users/jantinebroek/miniconda3/envs/diff_gnn/lib/python3.11/asyncio/events.py\", line 84, in _run\n",
      "    self._context.run(self._callback, *self._args)\n",
      "  File \"/Users/jantinebroek/miniconda3/envs/diff_gnn/lib/python3.11/site-packages/ipykernel/kernelbase.py\", line 519, in dispatch_queue\n",
      "    await self.process_one()\n",
      "  File \"/Users/jantinebroek/miniconda3/envs/diff_gnn/lib/python3.11/site-packages/ipykernel/kernelbase.py\", line 508, in process_one\n",
      "    await dispatch(*args)\n",
      "  File \"/Users/jantinebroek/miniconda3/envs/diff_gnn/lib/python3.11/site-packages/ipykernel/kernelbase.py\", line 400, in dispatch_shell\n",
      "    await result\n",
      "  File \"/Users/jantinebroek/miniconda3/envs/diff_gnn/lib/python3.11/site-packages/ipykernel/ipkernel.py\", line 368, in execute_request\n",
      "    await super().execute_request(stream, ident, parent)\n",
      "  File \"/Users/jantinebroek/miniconda3/envs/diff_gnn/lib/python3.11/site-packages/ipykernel/kernelbase.py\", line 767, in execute_request\n",
      "    reply_content = await reply_content\n",
      "  File \"/Users/jantinebroek/miniconda3/envs/diff_gnn/lib/python3.11/site-packages/ipykernel/ipkernel.py\", line 455, in do_execute\n",
      "    res = shell.run_cell(\n",
      "  File \"/Users/jantinebroek/miniconda3/envs/diff_gnn/lib/python3.11/site-packages/ipykernel/zmqshell.py\", line 577, in run_cell\n",
      "    return super().run_cell(*args, **kwargs)\n",
      "  File \"/Users/jantinebroek/miniconda3/envs/diff_gnn/lib/python3.11/site-packages/IPython/core/interactiveshell.py\", line 3116, in run_cell\n",
      "    result = self._run_cell(\n",
      "  File \"/Users/jantinebroek/miniconda3/envs/diff_gnn/lib/python3.11/site-packages/IPython/core/interactiveshell.py\", line 3171, in _run_cell\n",
      "    result = runner(coro)\n",
      "  File \"/Users/jantinebroek/miniconda3/envs/diff_gnn/lib/python3.11/site-packages/IPython/core/async_helpers.py\", line 128, in _pseudo_sync_runner\n",
      "    coro.send(None)\n",
      "  File \"/Users/jantinebroek/miniconda3/envs/diff_gnn/lib/python3.11/site-packages/IPython/core/interactiveshell.py\", line 3394, in run_cell_async\n",
      "    has_raised = await self.run_ast_nodes(code_ast.body, cell_name,\n",
      "  File \"/Users/jantinebroek/miniconda3/envs/diff_gnn/lib/python3.11/site-packages/IPython/core/interactiveshell.py\", line 3639, in run_ast_nodes\n",
      "    if await self.run_code(code, result, async_=asy):\n",
      "  File \"/Users/jantinebroek/miniconda3/envs/diff_gnn/lib/python3.11/site-packages/IPython/core/interactiveshell.py\", line 3699, in run_code\n",
      "    exec(code_obj, self.user_global_ns, self.user_ns)\n",
      "  File \"/var/folders/bs/gvm42h356mz5vjf9v118br000000gn/T/ipykernel_56980/2561946235.py\", line 1, in <module>\n",
      "    import torch\n",
      "  File \"/Users/jantinebroek/miniconda3/envs/diff_gnn/lib/python3.11/site-packages/torch/__init__.py\", line 1477, in <module>\n",
      "    from .functional import *  # noqa: F403\n",
      "  File \"/Users/jantinebroek/miniconda3/envs/diff_gnn/lib/python3.11/site-packages/torch/functional.py\", line 9, in <module>\n",
      "    import torch.nn.functional as F\n",
      "  File \"/Users/jantinebroek/miniconda3/envs/diff_gnn/lib/python3.11/site-packages/torch/nn/__init__.py\", line 1, in <module>\n",
      "    from .modules import *  # noqa: F403\n",
      "  File \"/Users/jantinebroek/miniconda3/envs/diff_gnn/lib/python3.11/site-packages/torch/nn/modules/__init__.py\", line 35, in <module>\n",
      "    from .transformer import TransformerEncoder, TransformerDecoder, \\\n",
      "  File \"/Users/jantinebroek/miniconda3/envs/diff_gnn/lib/python3.11/site-packages/torch/nn/modules/transformer.py\", line 20, in <module>\n",
      "    device: torch.device = torch.device(torch._C._get_default_device()),  # torch.device('cpu'),\n",
      "/Users/jantinebroek/miniconda3/envs/diff_gnn/lib/python3.11/site-packages/torch/nn/modules/transformer.py:20: UserWarning: Failed to initialize NumPy: _ARRAY_API not found (Triggered internally at /Users/runner/work/pytorch/pytorch/pytorch/torch/csrc/utils/tensor_numpy.cpp:84.)\n",
      "  device: torch.device = torch.device(torch._C._get_default_device()),  # torch.device('cpu'),\n",
      "No normalization for SPS. Feature removed!\n",
      "No normalization for AvgIpc. Feature removed!\n",
      "No normalization for NumAmideBonds. Feature removed!\n",
      "No normalization for NumAtomStereoCenters. Feature removed!\n",
      "No normalization for NumBridgeheadAtoms. Feature removed!\n",
      "No normalization for NumHeterocycles. Feature removed!\n",
      "No normalization for NumSpiroAtoms. Feature removed!\n",
      "No normalization for NumUnspecifiedAtomStereoCenters. Feature removed!\n",
      "No normalization for Phi. Feature removed!\n",
      "Skipped loading some Tensorflow models, missing a dependency. No module named 'tensorflow'\n",
      "Skipped loading modules with pytorch-geometric dependency, missing a dependency. No module named 'dgl'\n",
      "Skipped loading modules with transformers dependency. No module named 'transformers'\n",
      "cannot import name 'HuggingFaceModel' from 'deepchem.models.torch_models' (/Users/jantinebroek/miniconda3/envs/diff_gnn/lib/python3.11/site-packages/deepchem/models/torch_models/__init__.py)\n",
      "Skipped loading modules with pytorch-lightning dependency, missing a dependency. No module named 'lightning'\n",
      "Skipped loading some Jax models, missing a dependency. No module named 'jax'\n",
      "Skipped loading some PyTorch models, missing a dependency. No module named 'tensorflow'\n"
     ]
    }
   ],
   "execution_count": 1
  },
  {
   "metadata": {
    "ExecuteTime": {
     "end_time": "2025-08-25T15:20:42.083643Z",
     "start_time": "2025-08-25T15:20:42.058744Z"
    }
   },
   "cell_type": "code",
   "source": [
    "# Load trained model\n",
    "\n",
    "# Recreate the exact setup from your training\n",
    "dataset = DeepChemMolecularDataset('tox21', max_atoms=30)\n",
    "atom_dim = dataset._get_atom_feature_dim()\n",
    "bond_dim = dataset._get_bond_feature_dim()\n",
    "\n",
    "print(f\"Dataset loaded: {len(dataset.dataset)} molecules\")\n",
    "print(f\"Atom dim: {atom_dim}, Bond dim: {bond_dim}\")\n",
    "\n"
   ],
   "id": "7a8c1016f7029c",
   "outputs": [
    {
     "name": "stderr",
     "output_type": "stream",
     "text": [
      "INFO:diffusion_gnn.data.deepchem:Loading DeepChem dataset: tox21\n",
      "INFO:deepchem.data.datasets:Loading dataset from disk.\n",
      "INFO:deepchem.data.datasets:Loading dataset from disk.\n",
      "INFO:deepchem.data.datasets:Loading dataset from disk.\n",
      "INFO:diffusion_gnn.data.deepchem:Loaded tox21 dataset with 6258 molecules\n"
     ]
    },
    {
     "name": "stdout",
     "output_type": "stream",
     "text": [
      "Dataset loaded: 6258 molecules\n",
      "Atom dim: 37, Bond dim: 10\n"
     ]
    }
   ],
   "execution_count": 2
  },
  {
   "metadata": {
    "ExecuteTime": {
     "end_time": "2025-08-25T15:21:47.871388Z",
     "start_time": "2025-08-25T15:20:42.207487Z"
    }
   },
   "cell_type": "code",
   "source": [
    "# Train model (or Load if saved)\n",
    "\n",
    "# Since you don't have saved model, let's do quick training\n",
    "from diffusion_gnn.utils.mol_diff_gnn import plot_training_metrics\n",
    "\n",
    "# Create model and scheduler (same as your training)\n",
    "model = create_diffusion_model(\n",
    "    atom_dim=atom_dim,\n",
    "    bond_dim=bond_dim,\n",
    "    hidden_dim=128,\n",
    "    num_layers=3,\n",
    "    gnn_type='gat'\n",
    ").to(device)\n",
    "\n",
    "scheduler = create_noise_scheduler(num_timesteps=200).to(device)\n",
    "\n",
    "# Quick training (reduced epochs for demo)\n",
    "dataloader = dataset.create_dataloader(batch_size=8, shuffle=True)\n",
    "optimizer = torch.optim.AdamW(model.parameters(), lr=1e-3)\n",
    "\n",
    "print(\"Quick training for generation demo...\")\n",
    "model.train()\n",
    "for epoch in range(5):  # Just 5 epochs for demo\n",
    "    epoch_losses = []\n",
    "    for batch in dataloader:\n",
    "        batch = batch.to(device)\n",
    "        batch_size = batch.batch.max().item() + 1\n",
    "\n",
    "        optimizer.zero_grad()\n",
    "        t = torch.randint(0, scheduler.num_timesteps, (batch_size,), device=device)\n",
    "        noise = torch.randn_like(batch.x)\n",
    "        x_noisy = scheduler.add_noise(batch.x, t[batch.batch], noise)\n",
    "        noise_pred = model(x_noisy, batch.edge_index, batch.edge_attr, batch.batch, t)\n",
    "        loss = torch.nn.functional.mse_loss(noise_pred, noise)\n",
    "\n",
    "        loss.backward()\n",
    "        optimizer.step()\n",
    "        epoch_losses.append(loss.item())\n",
    "\n",
    "    print(f\"Epoch {epoch+1}: Loss = {np.mean(epoch_losses):.4f}\")\n",
    "\n",
    "print(\"Training complete!\")"
   ],
   "id": "98834d64fd542a2c",
   "outputs": [
    {
     "name": "stderr",
     "output_type": "stream",
     "text": [
      "INFO:diffusion_gnn.data.deepchem:Converting 6258 molecules to graphs...\n",
      "INFO:diffusion_gnn.data.deepchem:Processed 0/6258 molecules...\n",
      "[16:20:42] WARNING: not removing hydrogen atom without neighbors\n",
      "INFO:diffusion_gnn.data.deepchem:Processed 1000/6258 molecules...\n",
      "INFO:diffusion_gnn.data.deepchem:Processed 2000/6258 molecules...\n",
      "INFO:diffusion_gnn.data.deepchem:Processed 3000/6258 molecules...\n",
      "INFO:diffusion_gnn.data.deepchem:Processed 4000/6258 molecules...\n",
      "INFO:diffusion_gnn.data.deepchem:Processed 5000/6258 molecules...\n",
      "INFO:diffusion_gnn.data.deepchem:Processed 6000/6258 molecules...\n",
      "INFO:diffusion_gnn.data.deepchem:Successfully converted 5856/6258 molecules (93.6%)\n",
      "INFO:diffusion_gnn.data.deepchem:Failed conversions: 402\n",
      "/Users/jantinebroek/miniconda3/envs/diff_gnn/lib/python3.11/site-packages/torch_geometric/deprecation.py:26: UserWarning: 'data.DataLoader' is deprecated, use 'loader.DataLoader' instead\n",
      "  warnings.warn(out)\n"
     ]
    },
    {
     "name": "stdout",
     "output_type": "stream",
     "text": [
      "Quick training for generation demo...\n",
      "Epoch 1: Loss = 0.4555\n",
      "Epoch 2: Loss = 0.2561\n",
      "Epoch 3: Loss = 0.2262\n",
      "Epoch 4: Loss = 0.2067\n",
      "Epoch 5: Loss = 0.1948\n",
      "Training complete!\n"
     ]
    }
   ],
   "execution_count": 3
  },
  {
   "metadata": {
    "ExecuteTime": {
     "end_time": "2025-08-25T15:21:49.766058Z",
     "start_time": "2025-08-25T15:21:47.893911Z"
    }
   },
   "cell_type": "code",
   "source": [
    "# Generate molecular features\n",
    "print(\"Generating molecules...\")\n",
    "generated_features = sample_from_model(\n",
    "    model, scheduler,\n",
    "    num_molecules=5,\n",
    "    max_atoms=15,\n",
    "    atom_dim=atom_dim,\n",
    "    bond_dim=bond_dim,\n",
    "    device=device\n",
    ")\n",
    "\n",
    "print(f\"Generated features shape: {generated_features.shape}\")\n",
    "\n",
    "# Analyze generated atomic elements\n",
    "for mol_idx in range(generated_features.shape[0]):\n",
    "    mol_features = generated_features[mol_idx]\n",
    "    atom_types = features_to_atom_types(mol_features)\n",
    "    print(f\"Molecule {mol_idx+1}: {atom_types}\")"
   ],
   "id": "4f7edcc4b770680",
   "outputs": [
    {
     "name": "stdout",
     "output_type": "stream",
     "text": [
      "Generating molecules...\n",
      "Generated features shape: torch.Size([5, 15, 37])\n"
     ]
    },
    {
     "ename": "RuntimeError",
     "evalue": "Numpy is not available",
     "output_type": "error",
     "traceback": [
      "\u001B[31m---------------------------------------------------------------------------\u001B[39m",
      "\u001B[31mRuntimeError\u001B[39m                              Traceback (most recent call last)",
      "\u001B[36mCell\u001B[39m\u001B[36m \u001B[39m\u001B[32mIn[4]\u001B[39m\u001B[32m, line 17\u001B[39m\n\u001B[32m     15\u001B[39m \u001B[38;5;28;01mfor\u001B[39;00m mol_idx \u001B[38;5;129;01min\u001B[39;00m \u001B[38;5;28mrange\u001B[39m(generated_features.shape[\u001B[32m0\u001B[39m]):\n\u001B[32m     16\u001B[39m     mol_features = generated_features[mol_idx]\n\u001B[32m---> \u001B[39m\u001B[32m17\u001B[39m     atom_types = \u001B[43mfeatures_to_atom_types\u001B[49m\u001B[43m(\u001B[49m\u001B[43mmol_features\u001B[49m\u001B[43m)\u001B[49m\n\u001B[32m     18\u001B[39m     \u001B[38;5;28mprint\u001B[39m(\u001B[33mf\u001B[39m\u001B[33m\"\u001B[39m\u001B[33mMolecule \u001B[39m\u001B[38;5;132;01m{\u001B[39;00mmol_idx+\u001B[32m1\u001B[39m\u001B[38;5;132;01m}\u001B[39;00m\u001B[33m: \u001B[39m\u001B[38;5;132;01m{\u001B[39;00matom_types\u001B[38;5;132;01m}\u001B[39;00m\u001B[33m\"\u001B[39m)\n",
      "\u001B[36mFile \u001B[39m\u001B[32m~/Projects/diffusion_gnn/diffusion_gnn/utils/generation.py:59\u001B[39m, in \u001B[36mfeatures_to_atom_types\u001B[39m\u001B[34m(features)\u001B[39m\n\u001B[32m     57\u001B[39m elements = [\u001B[33m'\u001B[39m\u001B[33mH\u001B[39m\u001B[33m'\u001B[39m, \u001B[33m'\u001B[39m\u001B[33mC\u001B[39m\u001B[33m'\u001B[39m, \u001B[33m'\u001B[39m\u001B[33mN\u001B[39m\u001B[33m'\u001B[39m, \u001B[33m'\u001B[39m\u001B[33mO\u001B[39m\u001B[33m'\u001B[39m, \u001B[33m'\u001B[39m\u001B[33mF\u001B[39m\u001B[33m'\u001B[39m, \u001B[33m'\u001B[39m\u001B[33mP\u001B[39m\u001B[33m'\u001B[39m, \u001B[33m'\u001B[39m\u001B[33mS\u001B[39m\u001B[33m'\u001B[39m, \u001B[33m'\u001B[39m\u001B[33mCl\u001B[39m\u001B[33m'\u001B[39m, \u001B[33m'\u001B[39m\u001B[33mBr\u001B[39m\u001B[33m'\u001B[39m, \u001B[33m'\u001B[39m\u001B[33mI\u001B[39m\u001B[33m'\u001B[39m, \u001B[33m'\u001B[39m\u001B[33mOther\u001B[39m\u001B[33m'\u001B[39m]\n\u001B[32m     58\u001B[39m atomic_indices = torch.argmax(features[:, :\u001B[32m11\u001B[39m], dim=\u001B[32m1\u001B[39m)\n\u001B[32m---> \u001B[39m\u001B[32m59\u001B[39m \u001B[38;5;28;01mreturn\u001B[39;00m [elements[i] \u001B[38;5;28;01mfor\u001B[39;00m i \u001B[38;5;129;01min\u001B[39;00m \u001B[43matomic_indices\u001B[49m\u001B[43m.\u001B[49m\u001B[43mcpu\u001B[49m\u001B[43m(\u001B[49m\u001B[43m)\u001B[49m\u001B[43m.\u001B[49m\u001B[43mnumpy\u001B[49m\u001B[43m(\u001B[49m\u001B[43m)\u001B[49m]\n",
      "\u001B[31mRuntimeError\u001B[39m: Numpy is not available"
     ]
    }
   ],
   "execution_count": 4
  },
  {
   "metadata": {
    "ExecuteTime": {
     "end_time": "2025-08-25T15:21:49.771629Z",
     "start_time": "2025-08-25T15:10:47.566962Z"
    }
   },
   "cell_type": "code",
   "source": [
    "# Visualize feature distributions\n",
    "def plot_generation_analysis(features, dataset):\n",
    "    fig, axes = plt.subplots(2, 2, figsize=(12, 10))\n",
    "\n",
    "    # Atomic element distribution\n",
    "    all_features = features.reshape(-1, features.shape[-1])\n",
    "    atomic_probs = torch.softmax(all_features[:, :11], dim=1)\n",
    "    predicted_elements = torch.argmax(atomic_probs, dim=1)\n",
    "\n",
    "    elements = ['H', 'C', 'N', 'O', 'F', 'P', 'S', 'Cl', 'Br', 'I', 'Other']\n",
    "    unique_elements, counts = torch.unique(predicted_elements, return_counts=True)\n",
    "\n",
    "    element_names = [elements[i] for i in unique_elements.cpu()]\n",
    "    axes[0,0].bar(element_names, counts.cpu().numpy())\n",
    "    axes[0,0].set_title('Generated Atomic Elements')\n",
    "    axes[0,0].tick_params(axis='x', rotation=45)\n",
    "\n",
    "    # Feature value distributions\n",
    "    axes[0,1].hist(all_features[:, :11].cpu().numpy().flatten(), bins=50, alpha=0.7)\n",
    "    axes[0,1].set_title('Atomic Number Feature Distribution')\n",
    "    axes[0,1].set_xlabel('Feature Value')\n",
    "\n",
    "    # Compare with real data sample\n",
    "    real_batch = next(iter(dataset.create_dataloader(batch_size=16)))\n",
    "    real_elements = torch.argmax(real_batch.x[:, :11], dim=1)\n",
    "    real_unique, real_counts = torch.unique(real_elements, return_counts=True)\n",
    "\n",
    "    axes[1,0].bar([elements[i] for i in real_unique.cpu()], real_counts.cpu().numpy(), alpha=0.7, label='Real')\n",
    "    axes[1,0].bar(element_names, counts.cpu().numpy(), alpha=0.7, label='Generated')\n",
    "    axes[1,0].set_title('Real vs Generated Elements')\n",
    "    axes[1,0].legend()\n",
    "    axes[1,0].tick_params(axis='x', rotation=45)\n",
    "\n",
    "    # Feature magnitude comparison\n",
    "    axes[1,1].hist(real_batch.x.cpu().numpy().flatten(), bins=50, alpha=0.7, label='Real', density=True)\n",
    "    axes[1,1].hist(all_features.cpu().numpy().flatten(), bins=50, alpha=0.7, label='Generated', density=True)\n",
    "    axes[1,1].set_title('Feature Magnitude Distribution')\n",
    "    axes[1,1].legend()\n",
    "\n",
    "    plt.tight_layout()\n",
    "    plt.show()\n",
    "\n",
    "plot_generation_analysis(generated_features, dataset)"
   ],
   "id": "5351b8b3d0e41352",
   "outputs": [
    {
     "ename": "RuntimeError",
     "evalue": "Numpy is not available",
     "output_type": "error",
     "traceback": [
      "\u001B[31m---------------------------------------------------------------------------\u001B[39m",
      "\u001B[31mRuntimeError\u001B[39m                              Traceback (most recent call last)",
      "\u001B[36mCell\u001B[39m\u001B[36m \u001B[39m\u001B[32mIn[5]\u001B[39m\u001B[32m, line 23\u001B[39m\n\u001B[32m     20\u001B[39m     plt.ylabel(\u001B[33m'\u001B[39m\u001B[33mCount\u001B[39m\u001B[33m'\u001B[39m)\n\u001B[32m     21\u001B[39m     plt.show()\n\u001B[32m---> \u001B[39m\u001B[32m23\u001B[39m \u001B[43manalyze_generated_features\u001B[49m\u001B[43m(\u001B[49m\u001B[43mgenerated_features\u001B[49m\u001B[43m,\u001B[49m\u001B[43m \u001B[49m\u001B[43mdataset\u001B[49m\u001B[43m)\u001B[49m\n",
      "\u001B[36mCell\u001B[39m\u001B[36m \u001B[39m\u001B[32mIn[5]\u001B[39m\u001B[32m, line 17\u001B[39m, in \u001B[36manalyze_generated_features\u001B[39m\u001B[34m(features, dataset)\u001B[39m\n\u001B[32m     15\u001B[39m plt.figure(figsize=(\u001B[32m10\u001B[39m, \u001B[32m6\u001B[39m))\n\u001B[32m     16\u001B[39m element_names = [elements[i] \u001B[38;5;28;01mfor\u001B[39;00m i \u001B[38;5;129;01min\u001B[39;00m unique_elements.cpu()]\n\u001B[32m---> \u001B[39m\u001B[32m17\u001B[39m plt.bar(element_names, \u001B[43mcounts\u001B[49m\u001B[43m.\u001B[49m\u001B[43mcpu\u001B[49m\u001B[43m(\u001B[49m\u001B[43m)\u001B[49m\u001B[43m.\u001B[49m\u001B[43mnumpy\u001B[49m\u001B[43m(\u001B[49m\u001B[43m)\u001B[49m)\n\u001B[32m     18\u001B[39m plt.title(\u001B[33m'\u001B[39m\u001B[33mDistribution of Generated Atomic Elements\u001B[39m\u001B[33m'\u001B[39m)\n\u001B[32m     19\u001B[39m plt.xlabel(\u001B[33m'\u001B[39m\u001B[33mElement\u001B[39m\u001B[33m'\u001B[39m)\n",
      "\u001B[31mRuntimeError\u001B[39m: Numpy is not available"
     ]
    },
    {
     "data": {
      "text/plain": [
       "<Figure size 1000x600 with 0 Axes>"
      ]
     },
     "metadata": {},
     "output_type": "display_data"
    }
   ],
   "execution_count": 5
  }
 ],
 "metadata": {
  "kernelspec": {
   "display_name": "Python 3",
   "language": "python",
   "name": "python3"
  },
  "language_info": {
   "codemirror_mode": {
    "name": "ipython",
    "version": 2
   },
   "file_extension": ".py",
   "mimetype": "text/x-python",
   "name": "python",
   "nbconvert_exporter": "python",
   "pygments_lexer": "ipython2",
   "version": "2.7.6"
  }
 },
 "nbformat": 4,
 "nbformat_minor": 5
}
