{
 "cells": [
  {
   "cell_type": "code",
   "execution_count": null,
   "id": "initial_id",
   "metadata": {
    "collapsed": true
   },
   "outputs": [],
   "source": [
    "import sys\n",
    "sys.path.append('..')\n",
    "\n",
    "import torch\n",
    "from torch.utils.data import DataLoader\n",
    "import matplotlib.pyplot as plt\n",
    "\n",
    "from diffusion_gnn.core.ddpm import DDPM\n",
    "from diffusion_gnn.core.scheduler import DDPMScheduler\n",
    "from diffusion_gnn.models.unet import SimpleUNet\n",
    "from diffusion_gnn.data.synthetic import create_toy_dataset\n",
    "from diffusion_gnn.evaluation.visualization import *\n"
   ]
  },
  {
   "metadata": {},
   "cell_type": "code",
   "outputs": [],
   "execution_count": null,
   "source": [
    "device = torch.device('cuda' if torch.cuda.is_available() else 'cpu')\n",
    "print(f\"Using device: {device}\")"
   ],
   "id": "caef2400e4f5b56b"
  },
  {
   "metadata": {},
   "cell_type": "code",
   "outputs": [],
   "execution_count": null,
   "source": [
    "# Create small dataset for quick testing\n",
    "dataset = create_toy_dataset(n_samples=100, seq_len=32)\n",
    "dataloader = DataLoader(dataset, batch_size=8, shuffle=True)\n"
   ],
   "id": "94efa6ba53330cac"
  },
  {
   "metadata": {},
   "cell_type": "code",
   "outputs": [],
   "execution_count": null,
   "source": [
    "# Initialize components\n",
    "scheduler = DDPMScheduler(num_timesteps=100)  # Fewer steps for quick demo\n",
    "model = SimpleUNet(dim=32, channels=1).to(device)\n",
    "ddpm = DDPM(model, scheduler, device)"
   ],
   "id": "4073a0408d98de6d"
  },
  {
   "metadata": {},
   "cell_type": "code",
   "outputs": [],
   "execution_count": null,
   "source": [
    "# Visualize original data\n",
    "samples = next(iter(dataloader))\n",
    "plt.figure(figsize=(12, 3))\n",
    "for i in range(4):\n",
    "    plt.subplot(1, 4, i+1)\n",
    "    plt.plot(samples[i, 0].numpy())\n",
    "    plt.title(f'Original {i+1}')\n",
    "plt.suptitle('Original Training Data')\n",
    "plt.show()"
   ],
   "id": "1d97c52a673e4bf8"
  },
  {
   "metadata": {},
   "cell_type": "code",
   "outputs": [],
   "execution_count": null,
   "source": [
    "# Quick training\n",
    "optimizer = torch.optim.Adam(model.parameters(), lr=1e-3)\n",
    "\n",
    "for epoch in range(10):  # Just a few epochs for demo\n",
    "    model.train()\n",
    "    total_loss = 0\n",
    "\n",
    "    for data in dataloader:\n",
    "        data = data.to(device)\n",
    "        loss = ddpm.train_loss(data)\n",
    "\n",
    "        optimizer.zero_grad()\n",
    "        loss.backward()\n",
    "        optimizer.step()\n",
    "\n",
    "        total_loss += loss.item()\n",
    "\n",
    "    print(f\"Epoch {epoch}, Loss: {total_loss/len(dataloader):.4f}\")\n",
    "\n",
    "# Cell 5: Generate samples\n",
    "visualize_final_samples(ddpm, device, num_samples=4, seq_len=32)"
   ],
   "id": "486f3fda1baeeb18"
  }
 ],
 "metadata": {
  "kernelspec": {
   "display_name": "Python 3",
   "language": "python",
   "name": "python3"
  },
  "language_info": {
   "codemirror_mode": {
    "name": "ipython",
    "version": 2
   },
   "file_extension": ".py",
   "mimetype": "text/x-python",
   "name": "python",
   "nbconvert_exporter": "python",
   "pygments_lexer": "ipython2",
   "version": "2.7.6"
  }
 },
 "nbformat": 4,
 "nbformat_minor": 5
}
